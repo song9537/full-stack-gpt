{
 "cells": [
  {
   "cell_type": "code",
   "execution_count": 1,
   "metadata": {},
   "outputs": [
    {
     "name": "stdout",
     "output_type": "stream",
     "text": [
      "\n",
      "\n",
      "\u001b[1m> Entering new AgentExecutor chain...\u001b[0m\n",
      "\u001b[32;1m\u001b[1;3m\n",
      "Invoking: `StockMarketSymbolSearchTool` with `{'query': 'Cloudfare stock market symbol'}`\n",
      "\n",
      "\n",
      "\u001b[0m\u001b[36;1m\u001b[1;3mTop 5 Tech Stocks That Could Lead To Your Biggest Gains This Month - Cloudflare (NYSE:NET) The most oversold stocks in the information technology sector presents an opportunity to buy into undervalued companies. Get a real-time Cloudflare, Inc. (NET) stock price quote with breaking news, financials, statistics, charts and more. Stock analysis for Cloudflare Inc (NET:New York) including stock price, stock chart, company news, key statistics, fundamentals and company profile. 23 Wall Street analysts have issued 12-month price targets for Cloudflare's stock. Their NET share price targets range from $50.00 to $135.00. On average, they anticipate the company's stock price to reach $90.70 in the next twelve months. This suggests a possible upside of 16.8% from the stock's current price. Real-time Cloudflare stock price (NYSE: NET) plus other valuable data points like day range, year, stock analyst insights, related news and more. 2009. 3,704. Matthew Prince. www.cloudflare.com. Cloudflare, Inc. operates as a cloud services provider that delivers a range of services to businesses worldwide. The company provides an integrated cloud-based security solution to secure a range of combination of platforms, including public cloud, private cloud, on-premise, software-as-a ...\u001b[0m\u001b[32;1m\u001b[1;3mThe stock symbol for Cloudflare is NET and it is listed on the New York Stock Exchange (NYSE).\n",
      "\n",
      "Cloudflare, Inc. (NET) operates as a cloud services provider that delivers a range of services to businesses worldwide. The company provides an integrated cloud-based security solution to secure a range of combination of platforms, including public cloud, private cloud, on-premise, software-as-a-service applications, and Internet of Things (IoT) devices.\n",
      "\n",
      "According to Wall Street analysts, the 12-month price targets for Cloudflare's stock range from $50.00 to $135.00, with an average target price of $90.70. This suggests a potential upside of 16.8% from the current stock price.\n",
      "\n",
      "To analyze if Cloudflare is a potential good investment, we can consider factors such as the company's financial performance, growth prospects, competitive position, and industry trends. It's also important to assess your investment goals, risk tolerance, and time horizon before making any investment decisions.\n",
      "\n",
      "If you'd like, I can provide more detailed analysis on Cloudflare's stock and help you evaluate if it aligns with your investment objectives. Let me know if you'd like to proceed with a deeper analysis.\u001b[0m\n",
      "\n",
      "\u001b[1m> Finished chain.\u001b[0m\n"
     ]
    }
   ],
   "source": [
    "from typing import Any, Type\n",
    "from langchain.chat_models import ChatOpenAI\n",
    "from langchain.tools import BaseTool\n",
    "from pydantic import BaseModel, Field\n",
    "from langchain.agents import initialize_agent, AgentType\n",
    "from langchain.utilities import DuckDuckGoSearchAPIWrapper\n",
    "\n",
    "llm = ChatOpenAI(temperature=0.1)\n",
    "\n",
    "\n",
    "class StockMarketSymbolSearchToolArgsSchema(BaseModel):\n",
    "    query: str = Field(\n",
    "        description=\"The query you will search for. Example query: Stock Market Symbol for Apple Company\"\n",
    "    )\n",
    "\n",
    "class StockMarketSymbolSearchTool(BaseTool):\n",
    "    name = \"StockMarketSymbolSearchTool\"\n",
    "    description = \"\"\"\n",
    "    Use this tool to find the stock market symbol for a company.\n",
    "    It takes a query as an argument.\n",
    "    \"\"\"\n",
    "    args_schema: Type[StockMarketSymbolSearchToolArgsSchema] = StockMarketSymbolSearchToolArgsSchema\n",
    "    \n",
    "    def _run(self, query):\n",
    "        ddg = DuckDuckGoSearchAPIWrapper()\n",
    "        return ddg.run(query)\n",
    "\n",
    "agent = initialize_agent(\n",
    "    llm = llm,\n",
    "    verbose=True,\n",
    "    agent = AgentType.OPENAI_FUNCTIONS,\n",
    "    handle_parsing_errors = True,\n",
    "    tools =[\n",
    "        StockMarketSymbolSearchTool(),\n",
    "    ],\n",
    ")\n",
    "\n",
    "prompt = \"Give me information on Cloudfare's stock and help me analyze if it's a potential good investment. Also tell me what symbol does the stock have.\"\n",
    "\n",
    "agent.invoke(prompt)"
   ]
  },
  {
   "cell_type": "code",
   "execution_count": null,
   "metadata": {},
   "outputs": [],
   "source": []
  }
 ],
 "metadata": {
  "kernelspec": {
   "display_name": "env",
   "language": "python",
   "name": "python3"
  },
  "language_info": {
   "codemirror_mode": {
    "name": "ipython",
    "version": 3
   },
   "file_extension": ".py",
   "mimetype": "text/x-python",
   "name": "python",
   "nbconvert_exporter": "python",
   "pygments_lexer": "ipython3",
   "version": "3.11.6"
  }
 },
 "nbformat": 4,
 "nbformat_minor": 2
}
