{
 "cells": [
  {
   "cell_type": "code",
   "execution_count": 1,
   "metadata": {},
   "outputs": [],
   "source": [
    "import os\n",
    "import subprocess\n",
    "import math\n",
    "from pydub import AudioSegment\n",
    "from dotenv import load_dotenv\n",
    "\n",
    "load_dotenv(\".env\")\n",
    "\n",
    "api_key = os.getenv('OPENAI_API_KEY')\n",
    "\n",
    "def extract_audio_from_video(video_path, audio_path):\n",
    "    command = [\"wsl\", \"ffmpeg\", \"-i\", video_path, \"-vn\", audio_path]\n",
    "    subprocess.run(command)\n",
    "\n",
    "\"\"\"\n",
    "extract_audio_from_video(\"./files/video.mp4\", \"./files/video.mp3\")\n",
    "\"\"\"\n",
    "\n",
    "def cut_audio_in_chunks(audio_path, chunk_size, chunks_folder):\n",
    "    \n",
    "    track = AudioSegment.from_mp3(audio_path)\n",
    "    chunk_len = chunk_size*60*1000 \n",
    "    \n",
    "    chunks = math.ceil(len(track) / chunk_len)\n",
    "\n",
    "    for i in range(chunks):\n",
    "        start_time = i * chunk_len\n",
    "        end_time = (i +1) * chunk_len\n",
    "        \n",
    "        chunk = track[start_time:end_time]\n",
    "        \n",
    "        chunk.export(f\"{chunks_folder}/chunk_{i}.mp3\", format=\"mp3\")\n"
   ]
  },
  {
   "cell_type": "code",
   "execution_count": 6,
   "metadata": {},
   "outputs": [],
   "source": [
    "import openai\n",
    "import glob\n",
    "\n",
    "#\n",
    "\n",
    "#transcript[\"text\"]\n",
    "\n",
    "def transcribe_chunks(chunk_folder, destination):\n",
    "    files = glob.glob(f\"{chunk_folder}/*.mp3\")\n",
    "    for file in files:\n",
    "        with open(file, \"rb\") as audio_file, open(destination, \"a\") as text_file:\n",
    "            transcript = openai.Audio.transcribe(\"whisper-1\", audio_file)\n",
    "            text_file.write(transcript[\"text\"])\n",
    "\n",
    "transcribe_chunks(\"./files/chunks\", \"./files/transcript.txt\")"
   ]
  },
  {
   "cell_type": "code",
   "execution_count": null,
   "metadata": {},
   "outputs": [],
   "source": []
  },
  {
   "cell_type": "code",
   "execution_count": null,
   "metadata": {},
   "outputs": [],
   "source": []
  }
 ],
 "metadata": {
  "kernelspec": {
   "display_name": "env",
   "language": "python",
   "name": "python3"
  },
  "language_info": {
   "codemirror_mode": {
    "name": "ipython",
    "version": 3
   },
   "file_extension": ".py",
   "mimetype": "text/x-python",
   "name": "python",
   "nbconvert_exporter": "python",
   "pygments_lexer": "ipython3",
   "version": "3.11.9"
  }
 },
 "nbformat": 4,
 "nbformat_minor": 2
}
